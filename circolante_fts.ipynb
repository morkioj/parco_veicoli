{
  "nbformat": 4,
  "nbformat_minor": 0,
  "metadata": {
    "colab": {
      "provenance": [],
      "toc_visible": true
    },
    "kernelspec": {
      "name": "python3",
      "display_name": "Python 3"
    },
    "language_info": {
      "name": "python"
    }
  },
  "cells": [
    {
      "cell_type": "markdown",
      "source": [
        "# DATA COLLECTION"
      ],
      "metadata": {
        "id": "xmFfV9aGQWtw"
      }
    },
    {
      "cell_type": "code",
      "execution_count": null,
      "metadata": {
        "id": "as-C4Cn-4bdS"
      },
      "outputs": [],
      "source": [
        "pip install odfpy"
      ]
    },
    {
      "cell_type": "code",
      "source": [
        "import pandas as pd\n",
        "from io import BytesIO\n",
        "import numpy as np\n",
        "import os\n",
        "from google.colab import drive"
      ],
      "metadata": {
        "id": "p_v1bVw-4iJz"
      },
      "execution_count": 2,
      "outputs": []
    },
    {
      "cell_type": "markdown",
      "source": [
        "Recupero i dataset dal progetto github"
      ],
      "metadata": {
        "id": "1GKxgbNVF6H8"
      }
    },
    {
      "cell_type": "code",
      "source": [
        "!git clone https://github.com/morkioj/parco_veicoli.git"
      ],
      "metadata": {
        "colab": {
          "base_uri": "https://localhost:8080/"
        },
        "id": "lqvey4IyF6ru",
        "outputId": "3df27da3-0bf0-48ff-c8ca-250cb79e92c1"
      },
      "execution_count": 3,
      "outputs": [
        {
          "output_type": "stream",
          "name": "stdout",
          "text": [
            "Cloning into 'parco_veicoli'...\n",
            "remote: Enumerating objects: 35, done.\u001b[K\n",
            "remote: Counting objects: 100% (35/35), done.\u001b[K\n",
            "remote: Compressing objects: 100% (28/28), done.\u001b[K\n",
            "remote: Total 35 (delta 8), reused 0 (delta 0), pack-reused 0 (from 0)\u001b[K\n",
            "Receiving objects: 100% (35/35), 14.55 MiB | 15.40 MiB/s, done.\n",
            "Resolving deltas: 100% (8/8), done.\n"
          ]
        }
      ]
    },
    {
      "cell_type": "markdown",
      "source": [
        "**Importazione files ods**\n",
        "* Per ogni file Circolante_FTS_Autovetture_AAAA.ods presente nella cartella circolante_fts_autovetture estraggo il contenuto del foglio \"Nazionale\" e da questo genero un dataframe pandas\n",
        "* A questo df, aggiungo la colonna 'Anno' estrando il valore dal nome del file\n",
        "* Inserisco il df in una lista di df\n",
        "* Iterati tutti i file nella cartella, unisco tutti i df presenti nella lista in un nuovo dataframe (df_orig)"
      ],
      "metadata": {
        "id": "oQK4lvsxF_Mm"
      }
    },
    {
      "cell_type": "code",
      "source": [
        "#drive.mount('/content/drive')\n",
        "#folder_path=\"/content/drive/MyDrive/Colab Notebooks/dataset/fts/\"\n",
        "folder_path=\"/content/parco_veicoli/dataset/fabbrica_tipo_serie_circolante/\"\n",
        "sheet_name=\"Nazionale\"\n",
        "prefisso_file=\"Circolante_FTS_Autovetture\"\n",
        "text_to_search= [\"hybrid\"]\n",
        "vetture_per_anno=10\n",
        "file_consumi=\"ibride_consumi_litri-100km.csv\"\n",
        "file_nazione=\"fabbrica_nazione_continente.csv\"\n",
        "\n",
        "file_path=\"\"\n",
        "df_list=[]\n",
        "\n",
        "#Lista dei file presenti nella cartella\n",
        "file_list = os.listdir(folder_path)\n",
        "\n",
        "for file_name in file_list:\n",
        "  file_path = os.path.join(folder_path, file_name)\n",
        "  if(file_name.split('_20')[0]==prefisso_file and os.path.splitext(file_name)[1] == \".ods\" ):\n",
        "    with open(file_path, 'rb') as f:\n",
        "      file_content = f.read()\n",
        "    file_stream = BytesIO(file_content)\n",
        "    #creo il dataframe tramite lo stream di lettura del file (intestazione colonne indice 3)\n",
        "    df_file =pd.read_excel(io=file_stream,sheet_name=sheet_name,engine='odf',header=3)\n",
        "    #aggiungo una colonna al ds per rappresentare l'anno\n",
        "    df_file['Anno'] = int(file_name.split('_')[-1].replace('.ods',''))\n",
        "    #aggiungo il df alla lista\n",
        "    df_list.append(df_file)\n",
        "    print(f\"{file_name} importato...\")\n",
        "  else:\n",
        "    print(f\"{file_name} non importato...\")\n",
        "df_orig=pd.concat(df_list,ignore_index=True)"
      ],
      "metadata": {
        "id": "C0BZiauO6F2J"
      },
      "execution_count": null,
      "outputs": []
    },
    {
      "cell_type": "markdown",
      "source": [
        "# DATA CLEANING"
      ],
      "metadata": {
        "id": "OkX-QvQmHud_"
      }
    },
    {
      "cell_type": "markdown",
      "source": [
        "1. Rimuvo le righe che rappresentano i totali nazionali\n",
        "2. Sostituisco i valori nan delle colonne testuali (Fabbrica, Tipo, Serie) con stringa vuota\n",
        "3. Sostituisco i valori nan delle colonne numeriche (Totale) con 0"
      ],
      "metadata": {
        "id": "lNh9QRUsHz8A"
      }
    },
    {
      "cell_type": "code",
      "source": [
        "#1\n",
        "df_orig = df_orig[df_orig['Fabbrica']!='TOTALE NAZIONALE']\n",
        "#2\n",
        "df_orig[['Fabbrica','Tipo','Serie']] =df_orig[['Fabbrica','Tipo','Serie']].fillna('')\n",
        "#3\n",
        "df_orig[['Totale']] =df_orig[['Totale']].fillna(0)"
      ],
      "metadata": {
        "id": "vr8bH36CHzmR"
      },
      "execution_count": null,
      "outputs": []
    },
    {
      "cell_type": "markdown",
      "source": [
        "# DATA TRASFORMATION"
      ],
      "metadata": {
        "id": "nD7wQmZcQhn1"
      }
    },
    {
      "cell_type": "markdown",
      "source": [
        "**CALCOLO DEL RISPARMIO MEDIO DERIVANTE DALL'IBRIDO**"
      ],
      "metadata": {
        "id": "5iYK4ExpK3JV"
      }
    },
    {
      "cell_type": "markdown",
      "source": [
        "STEP I: ricerca modelli maggiormente diffusi\n",
        "1. Estraggo le sole vetture i cui motore è ibrido (filtro la serie con delle parolo chiave\n",
        "2. Per ogni modello calcolo il numero in circolazione annuale (raggruppo per modello ed anno e sommo il totale)\n",
        "3. Prendo i primo 10 modelli piu diffusi annualmente (ordino per anno crescente e totale decrescente e prendo i primi 10)\n"
      ],
      "metadata": {
        "id": "lilfXe_TJ4h5"
      }
    },
    {
      "cell_type": "code",
      "source": [
        "#1\n",
        "df_wrk=df_orig[df_orig['Serie'].str.contains('|'.join(text_to_search),case=False,na=False)]\n",
        "#2\n",
        "df_grouped=df_wrk.groupby(['Fabbrica','Tipo','Anno'])['Totale'].sum().reset_index()\n",
        "#3\n",
        "df_grouped=df_grouped.sort_values(['Anno','Totale'], ascending=[True,False]).groupby('Anno').head(vetture_per_anno)"
      ],
      "metadata": {
        "id": "kJE8GMB5Ji9f"
      },
      "execution_count": null,
      "outputs": []
    },
    {
      "cell_type": "markdown",
      "source": [
        "STEP II: Associazione dei consumi ai modelli\n",
        "4. Ricerca dei consumi (solo endotermico e ibrido) dei dieci modelli piu diffusi\n",
        "5. Inserisco i dati trovati all'interno di un csv che verrà poi importato ed associato ai modelli"
      ],
      "metadata": {
        "id": "FBel6yB4LRya"
      }
    },
    {
      "cell_type": "code",
      "source": [
        "#4\n",
        "file_consumi=\"ibride_consumi_litri-100km.csv\"\n",
        "file_path = os.path.join(folder_path, file_consumi)\n",
        "df_consumi=pd.read_csv(file_path,sep=';')\n",
        "#5\n",
        "df_export_consumi=pd.merge(df_grouped,df_consumi,on=['Fabbrica','Tipo']).reset_index(drop=True)"
      ],
      "metadata": {
        "id": "THWr9YskJntg"
      },
      "execution_count": null,
      "outputs": []
    },
    {
      "cell_type": "markdown",
      "source": [
        "STEP III: Calcolo del risparmio medio\n",
        "6. Calcolo una media ponderata per ogni anno dei consumi e quindi il risparmio tra ibrido e benzina\n"
      ],
      "metadata": {
        "id": "w5GL36xFL8lt"
      }
    },
    {
      "cell_type": "code",
      "source": [
        "#6\n",
        "consumi_medi = df_export_consumi.groupby('Anno').apply(lambda x: pd.Series({\n",
        "  'Consumo_Std_Medio': (x['Consumo_Std'] * x['Totale']).sum() / x['Totale'].sum(),\n",
        "  'Consumo_Hyb_Medio': (x['Consumo_Hyb'] * x['Totale']).sum() / x['Totale'].sum()\n",
        "})).reset_index()\n",
        "\n",
        "consumi_medi['Risparmio']=(consumi_medi['Consumo_Std_Medio'] - consumi_medi['Consumo_Hyb_Medio']) / consumi_medi['Consumo_Std_Medio'] * 100"
      ],
      "metadata": {
        "id": "UW0b6AglL85d"
      },
      "execution_count": null,
      "outputs": []
    },
    {
      "cell_type": "markdown",
      "source": [
        "Elenco delle case automobilistiche per numero di vetture annuo\n",
        "Associazione della nazione e del continente alla casa automobilistica"
      ],
      "metadata": {
        "id": "ddy_5jlHVunM"
      }
    },
    {
      "cell_type": "markdown",
      "source": [
        "**CASE AUTOMOBILISTICHE**\n",
        "\n",
        "1. Estrazione delle singole case automobilistiche\n",
        "2. All'elenco dei singoli modelli in circolazione, associo il continente e la nazione della fabbrica\n",
        "\n"
      ],
      "metadata": {
        "id": "wzf9YzhDNH4B"
      }
    },
    {
      "cell_type": "code",
      "source": [
        "df_fab_vet_ann=df_orig.groupby(['Fabbrica','Anno'])['Totale'].sum().reset_index()\n",
        "file_path = os.path.join(folder_path, file_nazione)\n",
        "df_nazione=pd.read_csv(file_path,sep=';')\n",
        "df_fabbrica_nazione=pd.merge(df_fab_vet_ann,df_nazione,on=['Fabbrica']).reset_index(drop=True)"
      ],
      "metadata": {
        "collapsed": true,
        "id": "zFaM1RzYV0pb"
      },
      "execution_count": null,
      "outputs": []
    },
    {
      "cell_type": "markdown",
      "source": [
        "**ELENCO DISTINTO DELLE CASE AUTOMOBILISTICHE**"
      ],
      "metadata": {
        "id": "a6rhYUoJVm4i"
      }
    },
    {
      "cell_type": "code",
      "source": [
        "s=pd.Series(df_fab_vet_ann['Fabbrica'].unique())"
      ],
      "metadata": {
        "id": "-Hv_ZretQ6Nr"
      },
      "execution_count": null,
      "outputs": []
    }
  ]
}