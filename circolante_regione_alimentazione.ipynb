{
  "nbformat": 4,
  "nbformat_minor": 0,
  "metadata": {
    "colab": {
      "provenance": [],
      "collapsed_sections": [
        "tj0tAI7HBtqn",
        "VhYcagb9Qz5e"
      ]
    },
    "kernelspec": {
      "name": "python3",
      "display_name": "Python 3"
    },
    "language_info": {
      "name": "python"
    }
  },
  "cells": [
    {
      "cell_type": "markdown",
      "source": [
        "# DATA COLLECTION"
      ],
      "metadata": {
        "id": "ljMTBuD5QFXb"
      }
    },
    {
      "cell_type": "markdown",
      "source": [
        "Installazione librerie necessarie\n",
        "odfpy: gestione in python degli opendocument"
      ],
      "metadata": {
        "id": "ozVlaS8-V3mA"
      }
    },
    {
      "cell_type": "code",
      "source": [
        "pip install odfpy"
      ],
      "metadata": {
        "id": "9stKdRadV3Wi",
        "collapsed": true
      },
      "execution_count": null,
      "outputs": []
    },
    {
      "cell_type": "markdown",
      "source": [
        "Importazione librerie"
      ],
      "metadata": {
        "id": "xQyYtcI4R_Ua"
      }
    },
    {
      "cell_type": "code",
      "source": [
        "import pandas as pd\n",
        "from io import BytesIO\n",
        "import numpy as np\n",
        "import os\n",
        "from google.colab import drive"
      ],
      "metadata": {
        "id": "J6TeRlmeS2vu"
      },
      "execution_count": null,
      "outputs": []
    },
    {
      "cell_type": "markdown",
      "source": [
        "Recupero i dataset dal progetto github"
      ],
      "metadata": {
        "id": "z3SwE6CefGg-"
      }
    },
    {
      "cell_type": "code",
      "source": [
        "!git clone https://github.com/morkioj/parco_veicoli.git"
      ],
      "metadata": {
        "id": "8JXQXP2eeMcG"
      },
      "execution_count": null,
      "outputs": []
    },
    {
      "cell_type": "markdown",
      "source": [
        "**Importazione files ods**\n",
        "* Per ogni file presente nella cartella estraggo il contenuto del foglio \"AV per regione\" e da questo genero un dataframe pandas\n",
        "* A questo df, aggiungo la colonna 'Anno' estrando il valore dal nome del file\n",
        "* Inserisco il df in una lista di df\n",
        "* Iterati tutti i file nella cartella, unisco tutti i df presenti nella lista in un nuovo dataframe (df_orig)"
      ],
      "metadata": {
        "id": "Ck2Z_FI-S64m"
      }
    },
    {
      "cell_type": "code",
      "source": [
        "#drive.mount('/content/drive')\n",
        "#folder_path=\"/content/drive/MyDrive/Colab Notebooks/dataset/circolante\"\n",
        "folder_path=\"/content/parco_veicoli/dataset/fabbrica_tipo_serie_circolante/\"\n",
        "file_path=\"\"\n",
        "sheet_name=\"AV_per_regione\"\n",
        "sheet_name2=\"AV per regione\"\n",
        "df_list=[]\n",
        "\n",
        "file_list = os.listdir(folder_path)\n",
        "\n",
        "for file_name in file_list:\n",
        "  file_path = os.path.join(folder_path,file_name)\n",
        "  #Ottengo lo stream binario (rb: read binary) del contenuto del file per passarlo come parametro a pd.read\n",
        "  with open(file_path, 'rb') as f:\n",
        "    file_content = f.read()\n",
        "  file_stream=BytesIO(file_content)\n",
        "  # Per compatibilità con la recente versione di pandas, anzichè passargli il percorso, gli passo il file_stream\n",
        "    # engine='odf' -> foglio di calcolo openoffice\n",
        "    # header=1 -> salta la prima riga ed utilizza la seconda come intestazione colonne\n",
        "  # Utilizzo il try-except perche alcuni file hanno il foglio con _ nel nome mentre altri hanno lo spazio\n",
        "  try:\n",
        "    df_file =pd.read_excel(io=file_stream,sheet_name=sheet_name,engine='odf',header=1)\n",
        "  except ValueError:\n",
        "    df_file =pd.read_excel(io=file_stream,sheet_name=sheet_name2,engine='odf',header=1)\n",
        "\n",
        "  #estraggo l'anno dal nome del file e lo inserisco in una nuova colonna\n",
        "  df_file['ANNO'] = int(file_name.split('_')[-1].replace('.ods',''))\n",
        "\n",
        "  #Inserisco in dataframe nella lista\n",
        "  df_list.append(df_file)\n",
        "  print(f\"{file_name} importato...\")\n",
        "\n",
        "#Una volta ottenuti tutti i dataframe (uno per ogni file) ed inseriti nella lista, li concateno tutti in una nuova lista\n",
        "df_orig = pd.concat(df_list, ignore_index=True)\n"
      ],
      "metadata": {
        "id": "qFWKLlAQ_Awb"
      },
      "execution_count": null,
      "outputs": []
    },
    {
      "cell_type": "markdown",
      "source": [
        "# DATA CLEANING"
      ],
      "metadata": {
        "id": "tj0tAI7HBtqn"
      }
    },
    {
      "cell_type": "markdown",
      "source": [
        "**PRIMA PARTE**"
      ],
      "metadata": {
        "id": "va7uPB3aPbN-"
      }
    },
    {
      "cell_type": "markdown",
      "source": [
        "1.   Sostituisco i campi nulli delle colonne 'Regione' e 'Alimentazione' con il valore contenuto nel record precedente\n",
        "2.   Sostituisco i campi nulli delle colonne numeriche con 0\n",
        "3.   Converto i float in int"
      ],
      "metadata": {
        "id": "02xQPXCYySOY"
      }
    },
    {
      "cell_type": "code",
      "source": [
        "\n",
        "df_opt=df_orig.copy()\n",
        "#1\n",
        "df_opt['REGIONE']=df_opt['REGIONE'].ffill()\n",
        "df_opt['ALIMENTAZIONE']=df_opt['ALIMENTAZIONE'].ffill()\n",
        "#2\n",
        "columns_to_fill = ['EURO 0', 'EURO 1', 'EURO 2', 'EURO 3', 'EURO 4', 'EURO 5', 'EURO 6', 'Non contemplato', 'Non identificato']\n",
        "df_opt[columns_to_fill] = df_opt[columns_to_fill].replace({pd.NA: 0, np.nan: 0})\n",
        "\n",
        "#3\n",
        "# df.select_dtypes(include=['float'] ottengo tutte le colonne di tipo float\n",
        "# .colums e ne prendo i nomi\n",
        "# {col: 'int' for col in ...} dictionary comprehension: crea un dizionario dove le chiavi sono i nomi delle colonne ed i valori 'int'\n",
        "# quindi per ogni colonna float del df crea una coppia del dizionario nella forma <nomecolonna;'int'>\n",
        "df_opt = df_opt.astype({col: 'int' for col in df_opt.select_dtypes(include=['float']).columns})"
      ],
      "metadata": {
        "id": "mfgRi_udWdEO"
      },
      "execution_count": null,
      "outputs": []
    },
    {
      "cell_type": "markdown",
      "source": [
        "4. Rimuovo i subtotali regionali (Campo Regione contiene 'Totale')\n",
        "5. Rimuovo la suddivisione per fascia di cilindrata (Campo Alimentazione non contiene 'Totale')\n",
        "6. Rimuovo la colonna 'FASCIA' in conseguenza del punto 4\n",
        "7. Rimuovo la parola 'Totale' dalla descrizione delle alimentazioni"
      ],
      "metadata": {
        "id": "rVziGcxa0vFL"
      }
    },
    {
      "cell_type": "code",
      "source": [
        "# Ricerca di testo all'interno del campo (case insensitive e nan da considerarsi false)\n",
        "# 4\n",
        "df_filt = df_opt[~df_opt['REGIONE'].str.contains('totale', case=False, na=False)]\n",
        "#5\n",
        "df_filt = df_filt[df_filt['ALIMENTAZIONE'].str.contains('totale', case=False, na=False)].reset_index(drop=True)\n",
        "#6\n",
        "df_filt=df_filt.drop(columns=['FASCIA'],axis=1)\n",
        "#7\n",
        "df_filt['ALIMENTAZIONE']=df_filt['ALIMENTAZIONE'].str.replace(\" totale\",\"\",case=False)\n"
      ],
      "metadata": {
        "id": "kA9X4b2K02RM"
      },
      "execution_count": null,
      "outputs": []
    },
    {
      "cell_type": "markdown",
      "source": [
        "**SECONDA PARTE**\n",
        "\n",
        "1. Assimilo i veicoli senza classe di inquinamento nella EURO 0 ([NON IDENTIFICATO]==0 --> EURO 0)\n",
        "2. Sposto i veicoli con alimentazione 'non definita' oppure 'altre' in una nuova categoria 'altro' ([Alimentazione]== 'Non Definito' || 'Altre' --> 'Altro')\n",
        "3. Rimuovo i record per i quali non è definita la regione ([REGIONE]== 'Non Definito' --> RIMUOVERE)   "
      ],
      "metadata": {
        "id": "Z_u0MjIV2uus"
      }
    },
    {
      "cell_type": "markdown",
      "source": [
        "Stampa dei valori che saranno rimossi/aggregati/modificati"
      ],
      "metadata": {
        "id": "9nnS1E1tYQS3"
      }
    },
    {
      "cell_type": "code",
      "source": [
        "#'REGIONE' == NON DEFINITO\n",
        "print (df_filt[df_filt['REGIONE']=='NON DEFINITO'].to_string())\n",
        "\n",
        "# Record con 'NON IDENTIFICATO' != 0\n",
        "print (df_filt[df_filt['Non identificato']!=0].to_string())\n",
        "\n",
        "#'ALIMENTAZIONE' == NON DEFINITO\n",
        "print (df_filt[df_filt['ALIMENTAZIONE']=='NON DEFINITO'].to_string())"
      ],
      "metadata": {
        "id": "4ISKJKDL2ufd"
      },
      "execution_count": null,
      "outputs": []
    },
    {
      "cell_type": "code",
      "source": [
        "#1\n",
        "# Creo un df temporaneo in cui inserire i record da modificare\n",
        "df_tmp = df_filt[df_filt['Non identificato'] != 0]\n",
        "# Sommo i valori: Seleziono le sole righe relative agli indici di dt_tmp e la colonna 'EURO 0' su cui sommare\n",
        "df_filt.loc[df_tmp.index, 'EURO 0'] += df_tmp['Non identificato']\n",
        "#Rimuovo la colonna \"non identificato\"\n",
        "df_filt = df_filt.drop(columns=['Non identificato'])\n",
        "\n",
        "#print (df_filt.to_string())"
      ],
      "metadata": {
        "id": "ZVVfA2W883Zx",
        "collapsed": true
      },
      "execution_count": null,
      "outputs": []
    },
    {
      "cell_type": "code",
      "source": [
        "#2\n",
        "#CREO UN DATASET TEMPORANEO IN CUI INSERISCO LE NUOVE RIGHE (con ALIMENTAZIONE=ALTRO) il cui valore è dato dalla somma delle righe con alimentazione=ALTRE || NON DEFINITO\n",
        "df_tmp = df_filt[df_filt['ALIMENTAZIONE'].isin(['ALTRE','NON DEFINITO'])].groupby(['REGIONE','ANNO']).sum(numeric_only=True).reset_index()\n",
        "df_tmp.insert(loc=1,column='ALIMENTAZIONE',value='ALTRO')\n",
        "#RIMUOVO LE RIGHE DA DF DI PARTENZA DOVE ALIMENTAZIONE = ALTRE o = NON DEFINITO\n",
        "df_filt.drop(df_filt[df_filt['ALIMENTAZIONE'].isin(['ALTRE', 'NON DEFINITO'])].index, inplace=True)\n",
        "\n",
        "#3\n",
        "#RIMUOVO LE RIGHE DA DF DI PARTENZA DOVE REGIONE = 'NON DEFINITO\"\n",
        "df_filt.drop(df_filt[df_filt['REGIONE'] == 'NON DEFINITO'].index, inplace=True)\n",
        "\n",
        "#UNISCO IL TUTTO IN UN NUOVO DATAFRAME (Altrimenti una volta alterato questo blocco di codice non troverebbe piu oggetti da lavorare)\n",
        "df_wrk = pd.concat([df_filt,df_tmp],ignore_index=True)\n"
      ],
      "metadata": {
        "id": "Wc4nhEhoGPLH"
      },
      "execution_count": null,
      "outputs": []
    },
    {
      "cell_type": "markdown",
      "source": [
        "# PREPROCESSING"
      ],
      "metadata": {
        "id": "VhYcagb9Qz5e"
      }
    },
    {
      "cell_type": "markdown",
      "source": [
        "Partendo dalla tipologia di alimentazione, aggiungo il campo 'TIPOLOGIA-MOTORE' per rappresentare la classe di motorizzazione (ENDOTERMICO - ELETTRICO - IBRIBO)"
      ],
      "metadata": {
        "id": "fMQSTffJp9ts"
      }
    },
    {
      "cell_type": "code",
      "source": [
        "# Valori distinti dei tipi di alimentazione\n",
        "print(df_wrk['ALIMENTAZIONE'].unique())"
      ],
      "metadata": {
        "id": "TOJ0VZ5k8xyI"
      },
      "execution_count": null,
      "outputs": []
    },
    {
      "cell_type": "code",
      "source": [
        "# Creo un dizionario per mappare la classe di motorizzazione del veicolo\n",
        "engine_map ={\n",
        "  'BENZINA': 'ENDOTERMICO',\n",
        "\t'BENZINA E GAS LIQUIDO': 'ENDOTERMICO',\n",
        "\t'BENZINA E METANO': 'ENDOTERMICO',\n",
        "\t'ELETTRICITA': 'ELETTRICO',\n",
        "\t'GASOLIO': 'ENDOTERMICO',\n",
        "\t'GASOLIO E GAS': 'ENDOTERMICO',\n",
        "\t'IBRIDO BENZINA': 'IBRIDO',\n",
        "\t'IBRIDO GASOLIO': 'IBRIDO',\n",
        "\t'METANO': 'ENDOTERMICO',\n",
        "\t'ELETTRICO-IBRIDO': 'ELETTRICO',\n",
        "\t'ALTRO': 'ENDOTERMICO'\n",
        "}\n",
        "\n",
        "#aggiungo la colonna al dataframe per la rappresentazione della variabile tipologia motore, in posizione 2 mettendo in join la colonna \"alimentazione\" con il dizionario sopra\n",
        "df_wrk.insert(2,'TIPOLOGIA_MOTORE',df_wrk['ALIMENTAZIONE'].map(engine_map).fillna('NON TROVATA'))"
      ],
      "metadata": {
        "id": "0DMQn1D1qCUx",
        "collapsed": true
      },
      "execution_count": null,
      "outputs": []
    },
    {
      "cell_type": "markdown",
      "source": [
        "Partendo dalla regione, aggiungo il campo 'AREA_GEOGRAFICA' (NORD-EST, NORD-OVEST,CENTRO,SUD,ISOLE)"
      ],
      "metadata": {
        "id": "hThr2fMHNPIG"
      }
    },
    {
      "cell_type": "code",
      "source": [
        "zone_map={\n",
        "  'ABRUZZO': 'SUD',\n",
        "  'BASILICATA': 'SUD',\n",
        "  'CALABRIA': 'SUD',\n",
        "  'CAMPANIA': 'SUD',\n",
        "  'EMILIA ROMAGNA': 'NORD-EST',\n",
        "  'FRIULI VENEZIA GIULIA': 'NORD-EST',\n",
        "  'LAZIO': 'CENTRO',\n",
        "  'LIGURIA': 'NORD-OVEST',\n",
        "  'LOMBARDIA': 'NORD-OVEST',\n",
        "  'MARCHE': 'CENTRO',\n",
        "  'MOLISE': 'SUD',\n",
        "  'PIEMONTE': 'NORD-OVEST',\n",
        "  'PUGLIA': 'SUD',\n",
        "  'SARDEGNA': 'ISOLE',\n",
        "  'SICILIA': 'ISOLE',\n",
        "  'TOSCANA': 'CENTRO',\n",
        "  'TRENTINO ALTO ADIGE': 'NORD-EST',\n",
        "  'UMBRIA': 'CENTRO',\n",
        "  'VALLE D\\'AOSTA': 'NORD-OVEST',\n",
        "  'VENETO': 'NORD-EST'\n",
        "}\n",
        "df_wrk.insert(0,'AREA_GEOGRAFICA',df_wrk['REGIONE'].map(zone_map).fillna('NON TROVATA'))"
      ],
      "metadata": {
        "id": "S9NLq-d5NTMW"
      },
      "execution_count": null,
      "outputs": []
    },
    {
      "cell_type": "markdown",
      "source": [
        "Ottimizzo il dataframe finale secondo le esigenze della rappresentazione grafica"
      ],
      "metadata": {
        "id": "8kjD4V7Fy-Sv"
      }
    },
    {
      "cell_type": "code",
      "source": [
        "#Raggruppo per regione,tipologia ed anno sommando il totale veicoli (rimuovendo di conseguenza tutti i campi superflui)\n",
        "df_graph = df_wrk.groupby(['AREA_GEOGRAFICA','REGIONE','TIPOLOGIA_MOTORE','ANNO'])['TOTALE'].sum().reset_index()\n",
        "#Rimuovo la \"regione\" italia\n",
        "df_graph = df_graph[df_graph['REGIONE'] != 'ITALIA']\n",
        "\n",
        "#esporto in excel\n",
        "df_graph.to_excel(\"/content/circolante_powerbi.xlsx\")"
      ],
      "metadata": {
        "id": "MMEwwRMGy6Cg"
      },
      "execution_count": null,
      "outputs": []
    }
  ]
}